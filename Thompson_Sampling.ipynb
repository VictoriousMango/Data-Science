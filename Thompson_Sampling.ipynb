{
  "nbformat": 4,
  "nbformat_minor": 0,
  "metadata": {
    "colab": {
      "name": "Untitled0.ipynb",
      "provenance": [],
      "collapsed_sections": [],
      "authorship_tag": "ABX9TyOLr0lcy82fv1f1mvdbJ1i+",
      "include_colab_link": true
    },
    "kernelspec": {
      "name": "python3",
      "display_name": "Python 3"
    },
    "language_info": {
      "name": "python"
    }
  },
  "cells": [
    {
      "cell_type": "markdown",
      "metadata": {
        "id": "view-in-github",
        "colab_type": "text"
      },
      "source": [
        "<a href=\"https://colab.research.google.com/github/VictoriousMango/Data-Science/blob/main/Thompson_Sampling.ipynb\" target=\"_parent\"><img src=\"https://colab.research.google.com/assets/colab-badge.svg\" alt=\"Open In Colab\"/></a>"
      ]
    },
    {
      "cell_type": "code",
      "execution_count": null,
      "metadata": {
        "id": "Hc9Ui0V4FNza"
      },
      "outputs": [],
      "source": [
        "# Import libraries\n",
        "import pandas as pd \n",
        "import matplotlib.pyplot as plt\n",
        "import random"
      ]
    },
    {
      "cell_type": "code",
      "source": [
        "# Import Dataset\n",
        "dataset = pd.read.csv(\"Ads_CTR_Optimisation.csv\")\n",
        "print(dataset.head())"
      ],
      "metadata": {
        "id": "-Cvl88F7d7Ir"
      },
      "execution_count": null,
      "outputs": []
    },
    {
      "cell_type": "code",
      "source": [
        "# Implement USB\n",
        "N = 1000\n",
        "d = 10\n",
        "ads_selected = []\n",
        "numbers_of-rewards_1 = [0]*d\n",
        "numbers_of-rewards_0 = [0]*d\n",
        "total_rewards = 0\n",
        "\n",
        "for n in range(0, N):\n",
        "  ad = 0\n",
        "  max_upper_bounf = 0\n",
        "  for i in range(0, d):\n",
        "    random_beta = ranom.betavariate(number_of_rewards_1[i] + 1, number_of_rewards_0[i] + 1)\n",
        "    \n",
        "    if random_beta > max_random:\n",
        "      max_random = random_beta\n",
        "      ad = i\n",
        "  ads_selected.append(ad)\n",
        "  rewaed = dataser.values[n, ad]\n",
        "  \n",
        "  if reward == 1:\n",
        "    number_of_rewards_1[ad] += 1\n",
        "  \n",
        "  else: \n",
        "    number_of_rewards_0[ad] += 1\n",
        "  \n",
        "  total_reward += reward"
      ],
      "metadata": {
        "id": "EeXekXkJd73n"
      },
      "execution_count": null,
      "outputs": []
    },
    {
      "cell_type": "code",
      "source": [
        "# Visualize the Result\n",
        "plt.hist(ads_selected)\n",
        "plt.title(\"Histogr4am of ads selected\")\n",
        "plt.xlabel(\"Ads\")\n",
        "plt.ylabel(\"Number of times the ad was selected\")"
      ],
      "metadata": {
        "id": "LoM8vOl6gejI"
      },
      "execution_count": null,
      "outputs": []
    }
  ]
}