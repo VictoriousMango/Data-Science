{
  "nbformat": 4,
  "nbformat_minor": 0,
  "metadata": {
    "colab": {
      "name": "Data Science.ipynb",
      "provenance": [],
      "authorship_tag": "ABX9TyMlcfyGBjRW8YPxfT/IzxV3",
      "include_colab_link": true
    },
    "kernelspec": {
      "name": "python3",
      "display_name": "Python 3"
    },
    "language_info": {
      "name": "python"
    }
  },
  "cells": [
    {
      "cell_type": "markdown",
      "metadata": {
        "id": "view-in-github",
        "colab_type": "text"
      },
      "source": [
        "<a href=\"https://colab.research.google.com/github/VictoriousMango/Data-Science/blob/main/Data_Science.ipynb\" target=\"_parent\"><img src=\"https://colab.research.google.com/assets/colab-badge.svg\" alt=\"Open In Colab\"/></a>"
      ]
    },
    {
      "cell_type": "markdown",
      "source": [
        "Why Python:\n",
        "\n",
        "\n",
        "1.   Multi-Paradigm \n",
        "2.   Open Source\n",
        "3.   Interpreted\n",
        "4.   Diversified\n",
        "5.   Easy and Simple\n",
        "6.   Large Standard Library\n",
        "7.   Dynamically\n",
        "\n"
      ],
      "metadata": {
        "id": "Q2KbAt9p7BmA"
      }
    },
    {
      "cell_type": "markdown",
      "source": [
        "Multi Paradigm Programming Language:\n",
        "\n",
        "\n",
        "1.   **Imperative**: *Programming paradigm that uses statements that change a program's state(Fortan, Algol, C).*\n",
        "2.   **Functinal**: *Treats computation as the evaluation of mathematical functions(LISP, Hashkell, Clojure).*\n",
        "3.   **Procedural**: *Language generally use reserved words and produceres(C Java).*\n",
        "4.   **Object-Oriented**: *Language that use real world entities called objects(C++, C#, Java).*\n",
        "\n"
      ],
      "metadata": {
        "id": "fW_loJBZAif8"
      }
    },
    {
      "cell_type": "markdown",
      "source": [
        "**Inheritance**"
      ],
      "metadata": {
        "id": "p4-SkZX-I0g0"
      }
    },
    {
      "cell_type": "code",
      "source": [
        "class Animal:\n",
        "  def __init__(self):\n",
        "    print(\"This is animal.\") \n",
        "  def whoami(self):\n",
        "    print(\"Animal\")"
      ],
      "metadata": {
        "id": "XdNdwCO9IzOq"
      },
      "execution_count": null,
      "outputs": []
    },
    {
      "cell_type": "code",
      "source": [
        "class Dog(Animal):\n",
        "  def __init__(self):\n",
        "    Animal.__init__(self)\n",
        "    print(\"This is dog\")\n",
        "  def whoami(self):\n",
        "    Animal.__init__(self)\n",
        "    Animal.whoami(self)\n",
        "    print(\"Dog.\")  \n",
        "  "
      ],
      "metadata": {
        "id": "KvzsLcCDJSu-"
      },
      "execution_count": null,
      "outputs": []
    },
    {
      "cell_type": "code",
      "source": [
        "d=Dog()"
      ],
      "metadata": {
        "colab": {
          "base_uri": "https://localhost:8080/"
        },
        "id": "1fW3ZYVjJsWL",
        "outputId": "0a2a2ea5-1a0b-43b8-dbc9-44b243d3557f"
      },
      "execution_count": null,
      "outputs": [
        {
          "output_type": "stream",
          "name": "stdout",
          "text": [
            "This is animal.\n",
            "This is dog\n"
          ]
        }
      ]
    },
    {
      "cell_type": "code",
      "source": [
        "d.whoami()"
      ],
      "metadata": {
        "colab": {
          "base_uri": "https://localhost:8080/"
        },
        "id": "FX7PWg5jJwpJ",
        "outputId": "4e630470-74d9-4662-ba4b-ae4446c80bf9"
      },
      "execution_count": null,
      "outputs": [
        {
          "output_type": "stream",
          "name": "stdout",
          "text": [
            "This is animal.\n",
            "Animal\n",
            "Dog.\n"
          ]
        }
      ]
    },
    {
      "cell_type": "markdown",
      "source": [
        "# **Machine Learning**\n",
        "\n",
        "1. Machine Learning is an application of Artificial \n",
        "Intelligence that provides systems the ability to automatically learn anbd improve from experience without being explicitly programmed \n",
        "2. Simply, Machine Learning is a technique for turning information into knowledge \n",
        "3. Machine Learning is generally categorized into three types:\n",
        "    1. Supervised Learning\n",
        "\n",
        "    *   Supervised Learning\n",
        "    *   Unsupervised Learning\n",
        "    *   Reinforcement Learning"
      ],
      "metadata": {
        "id": "GtUJcn3bPji_"
      }
    },
    {
      "cell_type": "markdown",
      "source": [
        "## **Supervised Learning**\n",
        "Supervised learning is a type of machine learning where you have input variables(X) and an output variable(Y) and you use an algorithm to learn the mapping function from the input to the output.\n",
        "#### Y = f(X)\n",
        "The algorithm learns from \"labeled\" training data helps you to predict outcomes for unseen\n",
        "\n",
        "The goal is to approximate the mapping function well, so that you can predict the output variables(Y) for that given input variables(X)\n",
        "### Examples\n",
        "* If shape of object is rounded and depression at top having color Red then it will be labelled as Apple. \n",
        "* If shape of object is long curving cylinder color Green Yellow then it will be labelled as Banana. \n",
        "* Now suppose after trainingthe data, you have given a new separate fruit based on the above inferences the new fruit should be identified.\n",
        "\n",
        "### Types of Supervised Learning:\n",
        "####    1. Classification\n",
        "  * Classifiation predictive modeling is the task of approximating a mapping functino (f) from input variable (X) to discrete output variables (y)(classes).\n",
        "  * Here the ouput Variable is usally a category, such as \"Red\" or \"blue\" or \"disease\" and \"no disease\" or \"spam\" or \"not spam\".\n",
        "  \n",
        "####    2. Regression \n",
        "  * Regression predictive modeling is the task of approximating a mapping function(t) from input variables(X) to a real or continuous output(y)\n",
        "  * Here, output variable is usually a real value, such as \"dollars\" or \"weight\".\n",
        "\n",
        "### Applications:\n",
        "* Bioinformaytics\n",
        "* Speech Recognition\n",
        "* Spam Detection\n",
        "* Object Recognition\n",
        "* Sentimental Analysis"
      ],
      "metadata": {
        "id": "XKHECiP3R6Hn"
      }
    },
    {
      "cell_type": "markdown",
      "source": [
        "# **Un-Supervised Learning**\n",
        "*   Unsupervised learning allows us to approach problems with little or no idea what our esults should look like that us you only have input data(X) and no corresponding output variables.\n",
        "*   We can derive structure from data where don't necessarily know the effect of the variables.\n",
        "\n",
        "## Types of Un-Supervised Learning:\n",
        "### 1. Clustering\n",
        "* A Clustering problem is where you want to discover the inherent groupings in the data, such as grouping customers by purchasing behavior. \n",
        "\n",
        "### 2. Association\n",
        "* An associatin rule learning problem is where you want to discover rules that describe large portions of your data, such as people that X also tend to buy Y.\n",
        "\n",
        "## Applications:\n",
        "* Customer Segmentation\n",
        "* Search Engines\n",
        "* Identification of cancer cells\n",
        "* Handwritten digit recognition\n",
        "* Clustering used in Search Engines"
      ],
      "metadata": {
        "id": "D9b2WSSzi-c7"
      }
    },
    {
      "cell_type": "markdown",
      "source": [
        "# **Steps in a Machine Learning Program**\n",
        "\n",
        "1. Importin Libraries\n",
        "2. Importing the dataset\n",
        "3. Splitting the dataset into Training Set and Testing Set\n",
        "4. Training model on the training set\n",
        "5. Predicting the Test set results\n",
        "6. Visualizing the Test set result"
      ],
      "metadata": {
        "id": "JwHjbCNmsHsx"
      }
    },
    {
      "cell_type": "markdown",
      "source": [
        "### **Hand Written Digit Prediction**"
      ],
      "metadata": {
        "id": "U9Y-zkD8o9kh"
      }
    },
    {
      "cell_type": "code",
      "source": [
        "# Importing Libraries\n",
        "\n",
        "import tensorflow as tf\n",
        "import matplotlib.pyplot as plt"
      ],
      "metadata": {
        "id": "Xf3G7ljvLcP9"
      },
      "execution_count": 2,
      "outputs": []
    },
    {
      "cell_type": "code",
      "source": [
        "# Importing Dataset \n",
        "\n",
        "mnist = tf.keras.datasets.mnist"
      ],
      "metadata": {
        "id": "4A_GBjYsKaAr"
      },
      "execution_count": 3,
      "outputs": []
    },
    {
      "cell_type": "code",
      "source": [
        "# Spliting the Dataset into Training Set and Testing Set \n",
        "\n",
        "(x_train, y_train),(x_test, y_test) = mnist.load_data()"
      ],
      "metadata": {
        "colab": {
          "base_uri": "https://localhost:8080/"
        },
        "id": "LGpECltVKxJQ",
        "outputId": "cbce2408-68fb-4211-e1e1-2ec195db10e2"
      },
      "execution_count": 4,
      "outputs": [
        {
          "output_type": "stream",
          "name": "stdout",
          "text": [
            "Downloading data from https://storage.googleapis.com/tensorflow/tf-keras-datasets/mnist.npz\n",
            "11493376/11490434 [==============================] - 0s 0us/step\n",
            "11501568/11490434 [==============================] - 0s 0us/step\n"
          ]
        }
      ]
    },
    {
      "cell_type": "code",
      "source": [
        "# Normalize \n",
        "x_train = tf.keras.utils.normalize(x_train, axis = 1)\n",
        "x_test = tf.keras.utils.normalize(x_test, axis = 1)"
      ],
      "metadata": {
        "id": "5hA8WngXMEo7"
      },
      "execution_count": 5,
      "outputs": []
    },
    {
      "cell_type": "code",
      "source": [
        "# How the data is looking\n",
        "n = int(input(\"Which dataset is to be shown\"))\n",
        "print(x_train[n])\n",
        "plt.imshow(x_train[n], cmap = plt.cm.binary)\n",
        "plt.show()\n",
        "print(y_train[n])"
      ],
      "metadata": {
        "colab": {
          "base_uri": "https://localhost:8080/",
          "height": 1000
        },
        "id": "a4iIiqqYLI3M",
        "outputId": "7da85e64-44ca-4d64-a31f-8f7f3f2b3088"
      },
      "execution_count": 6,
      "outputs": [
        {
          "output_type": "stream",
          "name": "stdout",
          "text": [
            "Which dataset is to be shown5\n",
            "[[0.         0.         0.         0.         0.         0.\n",
            "  0.         0.         0.         0.         0.         0.\n",
            "  0.         0.         0.         0.         0.         0.\n",
            "  0.         0.         0.         0.         0.         0.\n",
            "  0.         0.         0.         0.        ]\n",
            " [0.         0.         0.         0.         0.         0.\n",
            "  0.         0.         0.         0.         0.         0.\n",
            "  0.         0.         0.         0.         0.         0.\n",
            "  0.         0.         0.         0.         0.         0.\n",
            "  0.         0.         0.         0.        ]\n",
            " [0.         0.         0.         0.         0.         0.\n",
            "  0.         0.         0.         0.         0.         0.\n",
            "  0.         0.         0.         0.         0.         0.\n",
            "  0.         0.         0.         0.         0.         0.\n",
            "  0.         0.         0.         0.        ]\n",
            " [0.         0.         0.         0.         0.         0.\n",
            "  0.         0.         0.         0.         0.         0.\n",
            "  0.         0.         0.         0.         0.         0.\n",
            "  0.         0.         0.         0.         0.         0.\n",
            "  0.         0.         0.         0.        ]\n",
            " [0.         0.         0.         0.         0.         0.\n",
            "  0.         0.         0.         0.         0.         0.\n",
            "  0.         0.         0.         0.         0.         0.\n",
            "  0.         0.         0.         0.         0.         0.\n",
            "  0.         0.         0.         0.        ]\n",
            " [0.         0.         0.         0.         0.         0.\n",
            "  0.         0.         0.         0.         0.         0.\n",
            "  0.         0.         0.         0.01941852 0.04023069 0.1562113\n",
            "  0.14359004 0.00921171 0.         0.         0.         0.\n",
            "  0.         0.         0.         0.        ]\n",
            " [0.         0.         0.         0.         0.         0.\n",
            "  0.         0.         0.         0.         0.         0.\n",
            "  0.         0.04850047 0.23127813 0.31069633 0.40552536 0.39365246\n",
            "  0.29659582 0.19213005 0.         0.         0.         0.\n",
            "  0.         0.         0.         0.        ]\n",
            " [0.         0.         0.         0.         0.         0.\n",
            "  0.         0.         0.         0.         0.         0.06513354\n",
            "  0.23434254 0.35860954 0.38597409 0.37791429 0.36046699 0.32960583\n",
            "  0.29659582 0.30530254 0.1167979  0.         0.         0.\n",
            "  0.         0.         0.         0.        ]\n",
            " [0.         0.         0.         0.         0.         0.\n",
            "  0.         0.         0.         0.02761485 0.23598644 0.38917288\n",
            "  0.38851527 0.37036723 0.38597409 0.32264619 0.04988606 0.05779818\n",
            "  0.29659582 0.33162172 0.17519686 0.         0.         0.\n",
            "  0.         0.         0.         0.        ]\n",
            " [0.         0.         0.         0.         0.         0.\n",
            "  0.         0.         0.         0.17673505 0.39124068 0.41034128\n",
            "  0.38851527 0.37036723 0.33236658 0.04331824 0.         0.05779818\n",
            "  0.29659582 0.33162172 0.17519686 0.         0.         0.\n",
            "  0.         0.         0.         0.        ]\n",
            " [0.         0.         0.         0.         0.         0.\n",
            "  0.         0.         0.         0.33321921 0.39124068 0.41034128\n",
            "  0.33918    0.24544178 0.0459493  0.         0.         0.1202827\n",
            "  0.29659582 0.33162172 0.17519686 0.         0.         0.\n",
            "  0.         0.         0.         0.        ]\n",
            " [0.         0.         0.         0.         0.         0.\n",
            "  0.         0.         0.         0.04786574 0.19872542 0.09444363\n",
            "  0.033918   0.         0.         0.         0.         0.1562113\n",
            "  0.29659582 0.33162172 0.17519686 0.         0.         0.\n",
            "  0.         0.         0.         0.        ]\n",
            " [0.         0.         0.         0.         0.         0.\n",
            "  0.         0.         0.         0.         0.         0.\n",
            "  0.         0.         0.         0.         0.         0.24525173\n",
            "  0.29659582 0.33162172 0.17519686 0.         0.         0.\n",
            "  0.         0.         0.         0.        ]\n",
            " [0.         0.         0.         0.         0.         0.\n",
            "  0.         0.         0.         0.         0.         0.\n",
            "  0.         0.16166824 0.18532883 0.18223535 0.19471654 0.31554682\n",
            "  0.29659582 0.25529609 0.00875984 0.         0.         0.\n",
            "  0.         0.         0.         0.        ]\n",
            " [0.         0.         0.         0.         0.         0.\n",
            "  0.         0.         0.         0.         0.01552542 0.08630194\n",
            "  0.27596918 0.37183695 0.38750574 0.38090176 0.40713459 0.39521458\n",
            "  0.2683486  0.04605857 0.         0.         0.         0.\n",
            "  0.         0.         0.         0.        ]\n",
            " [0.         0.         0.         0.         0.         0.\n",
            "  0.         0.         0.00988969 0.09941347 0.35242712 0.41034128\n",
            "  0.37463972 0.33509416 0.26037935 0.36148324 0.40552536 0.39365246\n",
            "  0.2718795  0.15396723 0.01751969 0.         0.         0.\n",
            "  0.         0.         0.         0.        ]\n",
            " [0.         0.         0.         0.         0.         0.\n",
            "  0.         0.01125272 0.1542792  0.46392951 0.39124068 0.2035423\n",
            "  0.09096191 0.         0.02756958 0.31069633 0.40552536 0.39365246\n",
            "  0.29659582 0.33162172 0.25403544 0.02214624 0.         0.\n",
            "  0.         0.         0.         0.        ]\n",
            " [0.         0.         0.         0.         0.         0.\n",
            "  0.01071664 0.25318618 0.4984405  0.46392951 0.27945763 0.02605341\n",
            "  0.         0.03086394 0.31092358 0.37791429 0.39747923 0.20151257\n",
            "  0.20361539 0.33162172 0.7358268  0.58212984 0.20843953 0.15628175\n",
            "  0.21184745 0.         0.         0.        ]\n",
            " [0.         0.         0.         0.         0.         0.00915362\n",
            "  0.29149268 0.4726142  0.47668317 0.19514495 0.02639322 0.\n",
            "  0.08171154 0.29394225 0.38597409 0.32264619 0.1045998  0.\n",
            "  0.01647755 0.09474906 0.47595146 0.76246354 0.79586002 0.80373473\n",
            "  0.96412208 0.         0.         0.        ]\n",
            " [0.         0.         0.         0.         0.         0.32037666\n",
            "  0.54011878 0.45385967 0.17405859 0.03313782 0.11333559 0.27681753\n",
            "  0.37618145 0.37036723 0.19298705 0.04331824 0.         0.\n",
            "  0.         0.         0.         0.28157367 0.56847145 0.57409624\n",
            "  0.15996644 0.         0.         0.        ]\n",
            " [0.         0.         0.         0.         0.         0.70482866\n",
            "  0.54011878 0.45948603 0.40547739 0.39765386 0.39124068 0.41034128\n",
            "  0.38851527 0.18224419 0.00459493 0.         0.         0.\n",
            "  0.         0.         0.         0.         0.         0.\n",
            "  0.         0.         0.         0.        ]\n",
            " [0.         0.         0.         0.         0.         0.63159971\n",
            "  0.54011878 0.4726142  0.4984405  0.46392951 0.27635254 0.18888726\n",
            "  0.05550218 0.00587884 0.         0.         0.         0.\n",
            "  0.         0.         0.         0.         0.         0.\n",
            "  0.         0.         0.         0.        ]\n",
            " [0.         0.         0.         0.         0.         0.03966568\n",
            "  0.19932955 0.2681898  0.23933056 0.04234277 0.00931525 0.\n",
            "  0.         0.         0.         0.         0.         0.\n",
            "  0.         0.         0.         0.         0.         0.\n",
            "  0.         0.         0.         0.        ]\n",
            " [0.         0.         0.         0.         0.         0.\n",
            "  0.         0.         0.         0.         0.         0.\n",
            "  0.         0.         0.         0.         0.         0.\n",
            "  0.         0.         0.         0.         0.         0.\n",
            "  0.         0.         0.         0.        ]\n",
            " [0.         0.         0.         0.         0.         0.\n",
            "  0.         0.         0.         0.         0.         0.\n",
            "  0.         0.         0.         0.         0.         0.\n",
            "  0.         0.         0.         0.         0.         0.\n",
            "  0.         0.         0.         0.        ]\n",
            " [0.         0.         0.         0.         0.         0.\n",
            "  0.         0.         0.         0.         0.         0.\n",
            "  0.         0.         0.         0.         0.         0.\n",
            "  0.         0.         0.         0.         0.         0.\n",
            "  0.         0.         0.         0.        ]\n",
            " [0.         0.         0.         0.         0.         0.\n",
            "  0.         0.         0.         0.         0.         0.\n",
            "  0.         0.         0.         0.         0.         0.\n",
            "  0.         0.         0.         0.         0.         0.\n",
            "  0.         0.         0.         0.        ]\n",
            " [0.         0.         0.         0.         0.         0.\n",
            "  0.         0.         0.         0.         0.         0.\n",
            "  0.         0.         0.         0.         0.         0.\n",
            "  0.         0.         0.         0.         0.         0.\n",
            "  0.         0.         0.         0.        ]]\n"
          ]
        },
        {
          "output_type": "display_data",
          "data": {
            "image/png": "[encoded data removed]",
            "text/plain": [
              "<Figure size 432x288 with 1 Axes>"
            ]
          },
          "metadata": {
            "needs_background": "light"
          }
        },
        {
          "output_type": "stream",
          "name": "stdout",
          "text": [
            "2\n"
          ]
        }
      ]
    },
    {
      "cell_type": "code",
      "source": [
        "# Create Model\n",
        "model = tf.keras.models.Sequential()\n",
        "\n",
        "# Input into 1 * 784\n",
        "model.add(tf.keras.layers.Flatten())\n",
        "\n",
        "# Adding few layers \n",
        "model.add(tf.keras.layers.Dense(128, activation = tf.nn.relu)) \n",
        "model.add(tf.keras.layers.Dense(128, activation = tf.nn.relu)) \n",
        "model.add(tf.keras.layers.Dense(128, activation = tf.nn.relu))  \n",
        "\n",
        "# Output Layer\n",
        "model.add(tf.keras.layers.Dense(10, activation = tf.nn.softmax ))\n",
        "model.compile(optimizer = 'adam', loss = 'sparse_categorical_crossentropy', metrics = ['accuracy'])\n",
        "model.fit(x_train, y_train, epochs = 3)\n",
        "val_loss, val_acc = model.evaluate(x_test, y_test)\n"
      ],
      "metadata": {
        "colab": {
          "base_uri": "https://localhost:8080/"
        },
        "id": "pxk95r5qNs3t",
        "outputId": "2402e096-edc3-4bc4-a893-fd4cd65308e6"
      },
      "execution_count": 7,
      "outputs": [
        {
          "output_type": "stream",
          "name": "stdout",
          "text": [
            "Epoch 1/3\n",
            "1875/1875 [==============================] - 5s 3ms/step - loss: 0.2518 - accuracy: 0.9254\n",
            "Epoch 2/3\n",
            "1875/1875 [==============================] - 5s 2ms/step - loss: 0.1086 - accuracy: 0.9671\n",
            "Epoch 3/3\n",
            "1875/1875 [==============================] - 5s 2ms/step - loss: 0.0756 - accuracy: 0.9766\n",
            "313/313 [==============================] - 1s 1ms/step - loss: 0.0963 - accuracy: 0.9697\n"
          ]
        }
      ]
    },
    {
      "cell_type": "code",
      "source": [
        "import numpy as np\n",
        "predictions = model.predict(x_test)"
      ],
      "metadata": {
        "id": "8fp5RzWAOfuz"
      },
      "execution_count": 12,
      "outputs": []
    },
    {
      "cell_type": "code",
      "source": [
        "n = int(input(\"Enter to predict : \"))\n",
        "print(np.argmax(predictions[n]))\n",
        "plt.imshow(x_test[n], cmap = plt.cm.binary)\n",
        "plt.show"
      ],
      "metadata": {
        "colab": {
          "base_uri": "https://localhost:8080/",
          "height": 316
        },
        "id": "_F-UsmIt2LpI",
        "outputId": "6a92ad33-d2ea-4657-ed41-e4b748ee7647"
      },
      "execution_count": 13,
      "outputs": [
        {
          "output_type": "stream",
          "name": "stdout",
          "text": [
            "Enter to predict : 6\n",
            "4\n"
          ]
        },
        {
          "output_type": "execute_result",
          "data": {
            "text/plain": [
              "<function matplotlib.pyplot.show>"
            ]
          },
          "metadata": {},
          "execution_count": 13
        },
        {
          "output_type": "display_data",
          "data": {
            "image/png": "[encoded data removed]",
            "text/plain": [
              "<Figure size 432x288 with 1 Axes>"
            ]
          },
          "metadata": {
            "needs_background": "light"
          }
        }
      ]
    },
    {
      "cell_type": "code",
      "source": [
        ""
      ],
      "metadata": {
        "id": "P46FMNk84BFh"
      },
      "execution_count": null,
      "outputs": []
    }
  ]
}