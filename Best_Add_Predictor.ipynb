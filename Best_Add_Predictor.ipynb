{
  "nbformat": 4,
  "nbformat_minor": 0,
  "metadata": {
    "colab": {
      "name": "Untitled0.ipynb",
      "provenance": [],
      "collapsed_sections": [],
      "authorship_tag": "ABX9TyMy8jtKFDub9XaYP/j+bdC9",
      "include_colab_link": true
    },
    "kernelspec": {
      "name": "python3",
      "display_name": "Python 3"
    },
    "language_info": {
      "name": "python"
    }
  },
  "cells": [
    {
      "cell_type": "markdown",
      "metadata": {
        "id": "view-in-github",
        "colab_type": "text"
      },
      "source": [
        "<a href=\"https://colab.research.google.com/github/VictoriousMango/Data-Science/blob/main/Best_Add_Predictor.ipynb\" target=\"_parent\"><img src=\"https://colab.research.google.com/assets/colab-badge.svg\" alt=\"Open In Colab\"/></a>"
      ]
    },
    {
      "cell_type": "code",
      "execution_count": null,
      "metadata": {
        "id": "Hc9Ui0V4FNza"
      },
      "outputs": [],
      "source": [
        "#import libraries\n",
        "import numpy as np\n",
        "import pandas as pd \n",
        "import matplotlib.pyplot as plt\n",
        "import math"
      ]
    },
    {
      "cell_type": "code",
      "source": [
        "# Import Dataset\n",
        "dataset = pd.read.csv(\"Ads_CTR_Optimisation.csv\")\n",
        "print(dataset.head())"
      ],
      "metadata": {
        "id": "-Cvl88F7d7Ir"
      },
      "execution_count": null,
      "outputs": []
    },
    {
      "cell_type": "code",
      "source": [
        "# Implement USB\n",
        "n = 1000\n",
        "d = 10\n",
        "ads_selected = []\n",
        "numbers_of-selections = [0]*d\n",
        "sum_of_rewards = [0]*d\n",
        "total_rewards = 0\n",
        "\n",
        "for i in range(0, N):\n",
        "  ad = 0\n",
        "  max_upper_bounf = 0\n",
        "  for i in range(0, d):\n",
        "    if numbers_of_selections[i] > 0:\n",
        "      average_reqard = sum_of_rewards[i]/numbers_of_selections[i]\n",
        "      delta_i = math.sqrt(3/2 * math.log(n + 1)/ numbers_of_selections[i])\n",
        "      upper_bound = average_rewad + delta_i\n",
        "\n",
        "    else:\n",
        "      upper_bound = 1e400\n",
        "    \n",
        "    if upper_bound > max_upper_bound:\n",
        "      max_upper_bound = upper_bound\n",
        "      ad = 1\n",
        "\n",
        "    ads_selected.append(ad)\n",
        "    numbers_of_selected[ad] += 1\n",
        "    reward = dataset.values[n, ad]\n",
        "    sum_of_rewards[ad] += reward \n",
        "    total_reward += reward"
      ],
      "metadata": {
        "id": "EeXekXkJd73n"
      },
      "execution_count": null,
      "outputs": []
    },
    {
      "cell_type": "code",
      "source": [
        "# Visualize the Result\n",
        "plt.hist(ads_selected)\n",
        "plt.title(\"Histogr4am of ads selected\")\n",
        "plt.xlabel(\"Ads\")\n",
        "plt.ylabel(\"Number of times each ad was selected\")"
      ],
      "metadata": {
        "id": "LoM8vOl6gejI"
      },
      "execution_count": null,
      "outputs": []
    },
    {
      "cell_type": "code",
      "source": [
        "# Implement Dataset"
      ],
      "metadata": {
        "id": "4dAV1IBJd8Du"
      },
      "execution_count": null,
      "outputs": []
    }
  ]
}